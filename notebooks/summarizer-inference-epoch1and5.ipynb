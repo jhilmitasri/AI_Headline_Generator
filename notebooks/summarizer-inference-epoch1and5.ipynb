{
 "cells": [
  {
   "cell_type": "code",
   "execution_count": null,
   "metadata": {
    "_cell_guid": "b1076dfc-b9ad-4769-8c92-a6c4dae69d19",
    "_uuid": "8f2839f25d086af736a60e9eeb907d3b93b6e0e5",
    "execution": {
     "iopub.execute_input": "2024-11-21T04:31:57.797771Z",
     "iopub.status.busy": "2024-11-21T04:31:57.797020Z",
     "iopub.status.idle": "2024-11-21T04:32:06.603831Z",
     "shell.execute_reply": "2024-11-21T04:32:06.603022Z",
     "shell.execute_reply.started": "2024-11-21T04:31:57.797729Z"
    },
    "trusted": true
   },
   "outputs": [
    {
     "data": {
      "application/vnd.jupyter.widget-view+json": {
       "model_id": "ceb3e9daee014a13b198ca7a16d6bbb7",
       "version_major": 2,
       "version_minor": 0
      },
      "text/plain": [
       "tokenizer_config.json:   0%|          | 0.00/2.32k [00:00<?, ?B/s]"
      ]
     },
     "metadata": {},
     "output_type": "display_data"
    },
    {
     "data": {
      "application/vnd.jupyter.widget-view+json": {
       "model_id": "2d3efe62e545454e9b3743f7effaff1b",
       "version_major": 2,
       "version_minor": 0
      },
      "text/plain": [
       "spiece.model:   0%|          | 0.00/792k [00:00<?, ?B/s]"
      ]
     },
     "metadata": {},
     "output_type": "display_data"
    },
    {
     "data": {
      "application/vnd.jupyter.widget-view+json": {
       "model_id": "020dacf0a9ae4885985da244096e534a",
       "version_major": 2,
       "version_minor": 0
      },
      "text/plain": [
       "tokenizer.json:   0%|          | 0.00/1.39M [00:00<?, ?B/s]"
      ]
     },
     "metadata": {},
     "output_type": "display_data"
    },
    {
     "name": "stderr",
     "output_type": "stream",
     "text": [
      "You are using the default legacy behaviour of the <class 'transformers.models.t5.tokenization_t5.T5Tokenizer'>. This is expected, and simply means that the `legacy` (previous) behavior will be used so nothing changes for you. If you want to use the new behaviour, set `legacy=False`. This should only be set if you understand what it means, and thoroughly read the reason why this was added as explained in https://github.com/huggingface/transformers/pull/24565\n"
     ]
    }
   ],
   "source": [
    "from transformers import T5Tokenizer, T5ForConditionalGeneration\n",
    "import torch\n",
    "\n",
    "tokenizer = T5Tokenizer.from_pretrained(\"t5-small\")\n",
    "\n",
    "device = torch.device(\"cuda\" if torch.cuda.is_available() else \"cpu\")\n"
   ]
  },
  {
   "cell_type": "code",
   "execution_count": 2,
   "metadata": {
    "execution": {
     "iopub.execute_input": "2024-11-21T04:32:06.606020Z",
     "iopub.status.busy": "2024-11-21T04:32:06.605609Z",
     "iopub.status.idle": "2024-11-21T04:32:06.611858Z",
     "shell.execute_reply": "2024-11-21T04:32:06.610608Z",
     "shell.execute_reply.started": "2024-11-21T04:32:06.605989Z"
    },
    "trusted": true
   },
   "outputs": [],
   "source": [
    "def load_model(checkpoint_path):\n",
    "    model = T5ForConditionalGeneration.from_pretrained(\"t5-small\")\n",
    "    checkpoint = torch.load(checkpoint_path, map_location=device)\n",
    "    model.load_state_dict(checkpoint[\"model_state_dict\"])\n",
    "    model.to(device)\n",
    "    model.eval()\n",
    "    print(f\"Loaded model from {checkpoint_path}\")\n",
    "    return model\n"
   ]
  },
  {
   "cell_type": "code",
   "execution_count": null,
   "metadata": {
    "execution": {
     "iopub.execute_input": "2024-11-21T04:32:06.613368Z",
     "iopub.status.busy": "2024-11-21T04:32:06.613051Z",
     "iopub.status.idle": "2024-11-21T04:32:06.626016Z",
     "shell.execute_reply": "2024-11-21T04:32:06.624865Z",
     "shell.execute_reply.started": "2024-11-21T04:32:06.613338Z"
    },
    "trusted": true
   },
   "outputs": [],
   "source": [
    "def generate_summaries(model, texts, tokenizer, max_length=128, num_beams=4):\n",
    "    summaries = []\n",
    "    for text in texts:\n",
    "        inputs = tokenizer(\n",
    "            f\"summarize: {text}\", return_tensors=\"pt\", truncation=True, padding=\"max_length\", max_length=512\n",
    "        ).to(device)\n",
    "\n",
    "        with torch.no_grad():\n",
    "            outputs = model.generate(\n",
    "                input_ids=inputs[\"input_ids\"],\n",
    "                attention_mask=inputs[\"attention_mask\"],\n",
    "                max_length=max_length,\n",
    "                num_beams=num_beams,\n",
    "                early_stopping=True,\n",
    "                length_penalty=1.2,\n",
    "            )\n",
    "            summary = tokenizer.decode(outputs[0], skip_special_tokens=True)\n",
    "            summaries.append(summary)\n",
    "\n",
    "    return summaries\n"
   ]
  },
  {
   "cell_type": "code",
   "execution_count": null,
   "metadata": {
    "execution": {
     "iopub.execute_input": "2024-11-21T04:32:06.628546Z",
     "iopub.status.busy": "2024-11-21T04:32:06.628208Z",
     "iopub.status.idle": "2024-11-21T04:32:06.640418Z",
     "shell.execute_reply": "2024-11-21T04:32:06.639347Z",
     "shell.execute_reply.started": "2024-11-21T04:32:06.628511Z"
    },
    "trusted": true
   },
   "outputs": [],
   "source": [
    "def compare_models(model_paths, texts, tokenizer, max_length=128, num_beams=4):\n",
    "    all_results = {}\n",
    "\n",
    "    for path in model_paths:\n",
    "        model = load_model(path)\n",
    "        summaries = generate_summaries(model, texts, tokenizer, max_length=max_length, num_beams=num_beams)\n",
    "        all_results[path] = summaries\n",
    "\n",
    "    return all_results\n"
   ]
  },
  {
   "cell_type": "code",
   "execution_count": null,
   "metadata": {
    "execution": {
     "iopub.execute_input": "2024-11-21T04:41:14.937084Z",
     "iopub.status.busy": "2024-11-21T04:41:14.936662Z",
     "iopub.status.idle": "2024-11-21T04:41:29.284116Z",
     "shell.execute_reply": "2024-11-21T04:41:29.283054Z",
     "shell.execute_reply.started": "2024-11-21T04:41:14.937048Z"
    },
    "trusted": true
   },
   "outputs": [
    {
     "name": "stderr",
     "output_type": "stream",
     "text": [
      "/tmp/ipykernel_30/2028587808.py:3: FutureWarning: You are using `torch.load` with `weights_only=False` (the current default value), which uses the default pickle module implicitly. It is possible to construct malicious pickle data which will execute arbitrary code during unpickling (See https://github.com/pytorch/pytorch/blob/main/SECURITY.md#untrusted-models for more details). In a future release, the default value for `weights_only` will be flipped to `True`. This limits the functions that could be executed during unpickling. Arbitrary objects will no longer be allowed to be loaded via this mode unless they are explicitly allowlisted by the user via `torch.serialization.add_safe_globals`. We recommend you start setting `weights_only=True` for any use case where you don't have full control of the loaded file. Please open an issue on GitHub for any issues related to this experimental feature.\n",
      "  checkpoint = torch.load(checkpoint_path, map_location=device)\n"
     ]
    },
    {
     "name": "stdout",
     "output_type": "stream",
     "text": [
      "Loaded model from /kaggle/input/summarizer-t5-small-epoch1and5/transformers/default/1/checkpoint_epoch_1.pt\n",
      "Loaded model from /kaggle/input/summarizer-t5-small-epoch1and5/transformers/default/1/checkpoint_epoch_5.pt\n",
      "\n",
      "Summaries from model at /kaggle/input/summarizer-t5-small-epoch1and5/transformers/default/1/checkpoint_epoch_1.pt:\n",
      "Text 1: Artificial intelligence is a branch of computer science that aims to create machines that mimic huma...\n",
      "Summary: Learn about Artificial Intelligence.\n",
      "\n",
      "Text 2: Machine learning enables systems to learn and improve from data without being explicitly programmed....\n",
      "Summary: Use machine learning to learn from data.\n",
      "\n",
      "\n",
      "Summaries from model at /kaggle/input/summarizer-t5-small-epoch1and5/transformers/default/1/checkpoint_epoch_5.pt:\n",
      "Text 1: Artificial intelligence is a branch of computer science that aims to create machines that mimic huma...\n",
      "Summary: Learn about artificial intelligence.\n",
      "\n",
      "Text 2: Machine learning enables systems to learn and improve from data without being explicitly programmed....\n",
      "Summary: Use machine learning to learn from data.\n",
      "\n"
     ]
    }
   ],
   "source": [
    "texts = [\n",
    "    \"Artificial intelligence is a branch of computer science that aims to create machines that mimic human intelligence. It encompasses subfields like machine learning, natural language processing, and robotics.\",\n",
    "    \"Machine learning enables systems to learn and improve from data without being explicitly programmed. It is a crucial component of AI and has revolutionized industries like healthcare, finance, and autonomous vehicles.\"\n",
    "]\n",
    "\n",
    "model_paths = [\n",
    "    \"/kaggle/input/summarizer-t5-small-epoch1and5/transformers/default/1/checkpoint_epoch_1.pt\",\n",
    "    \"/kaggle/input/summarizer-t5-small-epoch1and5/transformers/default/1/checkpoint_epoch_5.pt\",\n",
    "]\n",
    "\n",
    "results = compare_models(model_paths, texts, tokenizer, max_length=128, num_beams=4)\n",
    "\n",
    "for model_path, summaries in results.items():\n",
    "    print(f\"\\nSummaries from model at {model_path}:\")\n",
    "    for i, summary in enumerate(summaries):\n",
    "        print(f\"Text {i + 1}: {texts[i][:100]}...\") \n",
    "        print(f\"Summary: {summary}\\n\")\n"
   ]
  }
 ],
 "metadata": {
  "kaggle": {
   "accelerator": "none",
   "dataSources": [
    {
     "isSourceIdPinned": true,
     "modelId": 170301,
     "modelInstanceId": 147773,
     "sourceId": 173604,
     "sourceType": "modelInstanceVersion"
    }
   ],
   "dockerImageVersionId": 30786,
   "isGpuEnabled": false,
   "isInternetEnabled": true,
   "language": "python",
   "sourceType": "notebook"
  },
  "kernelspec": {
   "display_name": "Python 3",
   "language": "python",
   "name": "python3"
  },
  "language_info": {
   "codemirror_mode": {
    "name": "ipython",
    "version": 3
   },
   "file_extension": ".py",
   "mimetype": "text/x-python",
   "name": "python",
   "nbconvert_exporter": "python",
   "pygments_lexer": "ipython3",
   "version": "3.10.14"
  }
 },
 "nbformat": 4,
 "nbformat_minor": 4
}
