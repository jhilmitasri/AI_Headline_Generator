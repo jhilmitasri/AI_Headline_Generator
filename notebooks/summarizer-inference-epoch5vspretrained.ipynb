{
 "cells": [
  {
   "cell_type": "code",
   "execution_count": null,
   "metadata": {
    "_cell_guid": "b1076dfc-b9ad-4769-8c92-a6c4dae69d19",
    "_uuid": "8f2839f25d086af736a60e9eeb907d3b93b6e0e5",
    "execution": {
     "iopub.execute_input": "2024-11-21T04:55:26.673293Z",
     "iopub.status.busy": "2024-11-21T04:55:26.672840Z",
     "iopub.status.idle": "2024-11-21T04:55:26.680435Z",
     "shell.execute_reply": "2024-11-21T04:55:26.679175Z",
     "shell.execute_reply.started": "2024-11-21T04:55:26.673254Z"
    },
    "trusted": true
   },
   "outputs": [],
   "source": [
    "from transformers import AutoTokenizer, AutoModelForSeq2SeqLM\n",
    "import torch\n",
    "from tqdm import tqdm\n",
    "from transformers import T5Tokenizer, T5ForConditionalGeneration, AutoTokenizer, AutoModelForSeq2SeqLM\n",
    "\n",
    "device = torch.device(\"cuda\" if torch.cuda.is_available() else \"cpu\")\n",
    "\n",
    "def load_pretrained_model(model_name=\"google/pegasus-xsum\"):\n",
    "    tokenizer = AutoTokenizer.from_pretrained(model_name)\n",
    "    model = AutoModelForSeq2SeqLM.from_pretrained(model_name)\n",
    "    model.to(device)\n",
    "    model.eval()\n",
    "    print(f\"Loaded pretrained model: {model_name}\")\n",
    "    return tokenizer, model\n"
   ]
  },
  {
   "cell_type": "code",
   "execution_count": null,
   "metadata": {
    "execution": {
     "iopub.execute_input": "2024-11-21T04:55:29.966932Z",
     "iopub.status.busy": "2024-11-21T04:55:29.966489Z",
     "iopub.status.idle": "2024-11-21T04:55:29.974908Z",
     "shell.execute_reply": "2024-11-21T04:55:29.973464Z",
     "shell.execute_reply.started": "2024-11-21T04:55:29.966892Z"
    },
    "trusted": true
   },
   "outputs": [],
   "source": [
    "def generate_pretrained_summaries(texts, tokenizer, model, max_length=128, num_beams=4):\n",
    "    summaries = []\n",
    "    for text in tqdm(texts, desc=\"Generating Summaries\"):\n",
    "        inputs = tokenizer(\n",
    "            text, return_tensors=\"pt\", truncation=True, padding=\"max_length\", max_length=512\n",
    "        ).to(device)\n",
    "\n",
    "        with torch.no_grad():\n",
    "            outputs = model.generate(\n",
    "                input_ids=inputs[\"input_ids\"],\n",
    "                attention_mask=inputs[\"attention_mask\"],\n",
    "                max_length=max_length,\n",
    "                num_beams=num_beams,\n",
    "                early_stopping=True,\n",
    "                length_penalty=1.2,\n",
    "            )\n",
    "            summary = tokenizer.decode(outputs[0], skip_special_tokens=True)\n",
    "            summaries.append(summary)\n",
    "\n",
    "    return summaries\n"
   ]
  },
  {
   "cell_type": "code",
   "execution_count": null,
   "metadata": {
    "execution": {
     "iopub.execute_input": "2024-11-21T04:55:30.284297Z",
     "iopub.status.busy": "2024-11-21T04:55:30.283837Z",
     "iopub.status.idle": "2024-11-21T04:55:30.293242Z",
     "shell.execute_reply": "2024-11-21T04:55:30.291959Z",
     "shell.execute_reply.started": "2024-11-21T04:55:30.284259Z"
    },
    "trusted": true
   },
   "outputs": [],
   "source": [
    "def compare_finetuned_and_pretrained(\n",
    "    finetuned_model_path, pretrained_model_name, texts, tokenizer_finetuned, tokenizer_pretrained\n",
    "):\n",
    "    finetuned_model = T5ForConditionalGeneration.from_pretrained(\"t5-small\")\n",
    "    checkpoint = torch.load(finetuned_model_path, map_location=device)\n",
    "    finetuned_model.load_state_dict(checkpoint[\"model_state_dict\"])\n",
    "    finetuned_model.to(device)\n",
    "    finetuned_model.eval()\n",
    "\n",
    "    print(\"Generating summaries with the fine-tuned model...\")\n",
    "    finetuned_summaries = []\n",
    "    for text in tqdm(texts, desc=\"Fine-tuned Model Inference\"):\n",
    "        inputs = tokenizer_finetuned(\n",
    "            f\"summarize: {text}\", return_tensors=\"pt\", truncation=True, padding=\"max_length\", max_length=512\n",
    "        ).to(device)\n",
    "\n",
    "        with torch.no_grad():\n",
    "            outputs = finetuned_model.generate(\n",
    "                input_ids=inputs[\"input_ids\"],\n",
    "                attention_mask=inputs[\"attention_mask\"],\n",
    "                max_length=128,\n",
    "                num_beams=4,\n",
    "                early_stopping=True,\n",
    "            )\n",
    "            summary = tokenizer_finetuned.decode(outputs[0], skip_special_tokens=True)\n",
    "            finetuned_summaries.append(summary)\n",
    "\n",
    "    tokenizer_pretrained, pretrained_model = load_pretrained_model(pretrained_model_name)\n",
    "\n",
    "    print(\"Generating summaries with the pretrained model...\")\n",
    "    pretrained_summaries = generate_pretrained_summaries(texts, tokenizer_pretrained, pretrained_model)\n",
    "\n",
    "    return finetuned_summaries, pretrained_summaries\n"
   ]
  },
  {
   "cell_type": "code",
   "execution_count": null,
   "metadata": {
    "execution": {
     "iopub.execute_input": "2024-11-21T04:55:30.614492Z",
     "iopub.status.busy": "2024-11-21T04:55:30.614050Z",
     "iopub.status.idle": "2024-11-21T04:56:18.188226Z",
     "shell.execute_reply": "2024-11-21T04:56:18.186969Z",
     "shell.execute_reply.started": "2024-11-21T04:55:30.614456Z"
    },
    "trusted": true
   },
   "outputs": [
    {
     "name": "stderr",
     "output_type": "stream",
     "text": [
      "/tmp/ipykernel_30/3861490637.py:6: FutureWarning: You are using `torch.load` with `weights_only=False` (the current default value), which uses the default pickle module implicitly. It is possible to construct malicious pickle data which will execute arbitrary code during unpickling (See https://github.com/pytorch/pytorch/blob/main/SECURITY.md#untrusted-models for more details). In a future release, the default value for `weights_only` will be flipped to `True`. This limits the functions that could be executed during unpickling. Arbitrary objects will no longer be allowed to be loaded via this mode unless they are explicitly allowlisted by the user via `torch.serialization.add_safe_globals`. We recommend you start setting `weights_only=True` for any use case where you don't have full control of the loaded file. Please open an issue on GitHub for any issues related to this experimental feature.\n",
      "  checkpoint = torch.load(finetuned_model_path, map_location=device)\n"
     ]
    },
    {
     "name": "stdout",
     "output_type": "stream",
     "text": [
      "Generating summaries with the fine-tuned model...\n"
     ]
    },
    {
     "name": "stderr",
     "output_type": "stream",
     "text": [
      "Fine-tuned Model Inference: 100%|██████████| 2/2 [00:01<00:00,  1.17it/s]\n"
     ]
    },
    {
     "data": {
      "application/vnd.jupyter.widget-view+json": {
       "model_id": "eaa2ec46b25f479e9d6f302163c40909",
       "version_major": 2,
       "version_minor": 0
      },
      "text/plain": [
       "tokenizer_config.json:   0%|          | 0.00/87.0 [00:00<?, ?B/s]"
      ]
     },
     "metadata": {},
     "output_type": "display_data"
    },
    {
     "data": {
      "application/vnd.jupyter.widget-view+json": {
       "model_id": "a6cff19a2cde4a0baff72dbd4e4dc16f",
       "version_major": 2,
       "version_minor": 0
      },
      "text/plain": [
       "config.json:   0%|          | 0.00/1.39k [00:00<?, ?B/s]"
      ]
     },
     "metadata": {},
     "output_type": "display_data"
    },
    {
     "data": {
      "application/vnd.jupyter.widget-view+json": {
       "model_id": "5ef6da3058fa42d280ce6645cd5e1c01",
       "version_major": 2,
       "version_minor": 0
      },
      "text/plain": [
       "spiece.model:   0%|          | 0.00/1.91M [00:00<?, ?B/s]"
      ]
     },
     "metadata": {},
     "output_type": "display_data"
    },
    {
     "data": {
      "application/vnd.jupyter.widget-view+json": {
       "model_id": "f87bcc40aaef4a03b73ce207bdcee107",
       "version_major": 2,
       "version_minor": 0
      },
      "text/plain": [
       "tokenizer.json:   0%|          | 0.00/3.52M [00:00<?, ?B/s]"
      ]
     },
     "metadata": {},
     "output_type": "display_data"
    },
    {
     "data": {
      "application/vnd.jupyter.widget-view+json": {
       "model_id": "6e5528f7efc74b438be6e248392bb476",
       "version_major": 2,
       "version_minor": 0
      },
      "text/plain": [
       "special_tokens_map.json:   0%|          | 0.00/65.0 [00:00<?, ?B/s]"
      ]
     },
     "metadata": {},
     "output_type": "display_data"
    },
    {
     "name": "stderr",
     "output_type": "stream",
     "text": [
      "/opt/conda/lib/python3.10/site-packages/transformers/tokenization_utils_base.py:1617: FutureWarning: `clean_up_tokenization_spaces` was not set. It will be set to `True` by default. This behavior will be deprecated in transformers v4.45, and will be then set to `False` by default. For more details check this issue: https://github.com/huggingface/transformers/issues/31884\n",
      "  warnings.warn(\n"
     ]
    },
    {
     "data": {
      "application/vnd.jupyter.widget-view+json": {
       "model_id": "63c4d3b8d5004cd9ac4dd220574f90b5",
       "version_major": 2,
       "version_minor": 0
      },
      "text/plain": [
       "pytorch_model.bin:   0%|          | 0.00/2.28G [00:00<?, ?B/s]"
      ]
     },
     "metadata": {},
     "output_type": "display_data"
    },
    {
     "name": "stderr",
     "output_type": "stream",
     "text": [
      "Some weights of PegasusForConditionalGeneration were not initialized from the model checkpoint at google/pegasus-xsum and are newly initialized: ['model.decoder.embed_positions.weight', 'model.encoder.embed_positions.weight']\n",
      "You should probably TRAIN this model on a down-stream task to be able to use it for predictions and inference.\n"
     ]
    },
    {
     "data": {
      "application/vnd.jupyter.widget-view+json": {
       "model_id": "04cf5d7043844196af053fec1dcf7e5a",
       "version_major": 2,
       "version_minor": 0
      },
      "text/plain": [
       "generation_config.json:   0%|          | 0.00/259 [00:00<?, ?B/s]"
      ]
     },
     "metadata": {},
     "output_type": "display_data"
    },
    {
     "name": "stdout",
     "output_type": "stream",
     "text": [
      "Loaded pretrained model: google/pegasus-xsum\n",
      "Generating summaries with the pretrained model...\n"
     ]
    },
    {
     "name": "stderr",
     "output_type": "stream",
     "text": [
      "Generating Summaries: 100%|██████████| 2/2 [00:21<00:00, 10.61s/it]\n"
     ]
    },
    {
     "name": "stdout",
     "output_type": "stream",
     "text": [
      "\n",
      "Input 1: Artificial intelligence is the simulation of human intelligence by machines. It enables tasks like speech recognition, decision-making, and translation.\n",
      "Fine-tuned Summary: Learn about Artificial Intelligence.\n",
      "Pretrained Summary: Artificial intelligence (AI) is a branch of computer science that deals with the study of human intelligence.\n",
      "\n",
      "Input 2: Machine learning is a subset of AI that uses algorithms to learn patterns in data and make predictions without explicit programming.\n",
      "Fine-tuned Summary: Understand machine learning.\n",
      "Pretrained Summary: Researchers at the Massachusetts Institute of Technology (MIT) have developed a machine learning algorithm that can predict whether a patient will be admitted to the hospital on time.\n"
     ]
    }
   ],
   "source": [
    "texts = [\n",
    "    \"Artificial intelligence is the simulation of human intelligence by machines. It enables tasks like speech recognition, decision-making, and translation.\",\n",
    "    \"Machine learning is a subset of AI that uses algorithms to learn patterns in data and make predictions without explicit programming.\",\n",
    "]\n",
    "\n",
    "finetuned_model_path = \"/kaggle/input/summarizer-t5-small-epoch1and5/transformers/default/1/checkpoint_epoch_5.pt\"\n",
    "pretrained_model_name = \"google/pegasus-xsum\"\n",
    "\n",
    "tokenizer_finetuned = T5Tokenizer.from_pretrained(\"t5-small\")\n",
    "\n",
    "finetuned_summaries, pretrained_summaries = compare_finetuned_and_pretrained(\n",
    "    finetuned_model_path, pretrained_model_name, texts, tokenizer_finetuned, None\n",
    ")\n",
    "\n",
    "for i, text in enumerate(texts):\n",
    "    print(f\"\\nInput {i + 1}: {text}\")\n",
    "    print(f\"Fine-tuned Summary: {finetuned_summaries[i]}\")\n",
    "    print(f\"Pretrained Summary: {pretrained_summaries[i]}\")\n"
   ]
  },
  {
   "cell_type": "code",
   "execution_count": null,
   "metadata": {
    "trusted": true
   },
   "outputs": [],
   "source": []
  }
 ],
 "metadata": {
  "kaggle": {
   "accelerator": "none",
   "dataSources": [
    {
     "isSourceIdPinned": true,
     "modelId": 170301,
     "modelInstanceId": 147773,
     "sourceId": 173604,
     "sourceType": "modelInstanceVersion"
    }
   ],
   "dockerImageVersionId": 30786,
   "isGpuEnabled": false,
   "isInternetEnabled": true,
   "language": "python",
   "sourceType": "notebook"
  },
  "kernelspec": {
   "display_name": "Python 3",
   "language": "python",
   "name": "python3"
  },
  "language_info": {
   "codemirror_mode": {
    "name": "ipython",
    "version": 3
   },
   "file_extension": ".py",
   "mimetype": "text/x-python",
   "name": "python",
   "nbconvert_exporter": "python",
   "pygments_lexer": "ipython3",
   "version": "3.10.14"
  }
 },
 "nbformat": 4,
 "nbformat_minor": 4
}
